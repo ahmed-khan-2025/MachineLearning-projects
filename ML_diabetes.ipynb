{
 "cells": [
  {
   "cell_type": "code",
   "execution_count": null,
   "id": "0c5c0ebc",
   "metadata": {},
   "outputs": [],
   "source": [
    "import pandas as pd\n",
    "import numpy as np\n",
    "import matplotlib.pyplot as plt\n",
    "from sklearn.model_selection import train_test_split\n",
    "from sklearn.tree import DecisionTreeClassifier, plot_tree\n",
    "from sklearn.metrics import classification_report, confusion_matrix, accuracy_score\n",
    "\n",
    "#1. Läs in data\n",
    "df = pd.read_csv('diabetes.csv')\n",
    "print(\"Dataset shape:\", df.shape)\n",
    "\n",
    "#2. Rensa och förbered data\n",
    "# Kolumner som inte kan ha 0 som giltigt värde\n",
    "cols_to_clean = ['Glucose', 'BloodPressure', 'SkinThickness', 'Insulin', 'BMI']\n",
    "df[cols_to_clean] = df[cols_to_clean].replace(0, np.nan)\n",
    "df[cols_to_clean] = df[cols_to_clean].fillna(df[cols_to_clean].median())\n",
    "\n",
    "#3. Dela upp features och målvariabel\n",
    "X = df.drop('Outcome', axis=1)\n",
    "y = df['Outcome']\n",
    "\n",
    "#4. Dela upp i tränings- och testdata\n",
    "X_train, X_test, y_train, y_test = train_test_split(\n",
    "    X, y, test_size=0.2, random_state=42, stratify=y\n",
    ")\n",
    "\n",
    "#5. Träna en Decision Tree-modell\n",
    "model = DecisionTreeClassifier(random_state=42, max_depth=4)\n",
    "model.fit(X_train, y_train)\n",
    "\n",
    "#6. Prediktion och utvärdering \n",
    "y_pred = model.predict(X_test)\n",
    "\n",
    "print(\"\\n=== Modellutvärdering ===\")\n",
    "print(\"Accuracy:\", round(accuracy_score(y_test, y_pred), 3))\n",
    "print(\"\\nClassification Report:\\n\", classification_report(y_test, y_pred))\n",
    "print(\"Confusion Matrix:\\n\", confusion_matrix(y_test, y_pred))\n",
    "\n",
    "# === 7. Visualisera beslutsträdet ===\n",
    "# plt.figure(figsize=(15, 8))\n",
    "# plot_tree(model, feature_names=X.columns, class_names=[\"No Diabetes\", \"Diabetes\"], filled=True)\n",
    "# plt.title(\"Beslutsträd för Diabetesprediktion\")\n",
    "# plt.show()\n"
   ]
  }
 ],
 "metadata": {
  "kernelspec": {
   "display_name": "base",
   "language": "python",
   "name": "python3"
  },
  "language_info": {
   "codemirror_mode": {
    "name": "ipython",
    "version": 3
   },
   "file_extension": ".py",
   "mimetype": "text/x-python",
   "name": "python",
   "nbconvert_exporter": "python",
   "pygments_lexer": "ipython3",
   "version": "3.12.7"
  }
 },
 "nbformat": 4,
 "nbformat_minor": 5
}

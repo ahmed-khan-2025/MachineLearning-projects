{
  "cells": [
    {
      "cell_type": "code",
      "execution_count": null,
      "metadata": {
        "colab": {
          "base_uri": "https://localhost:8080/",
          "height": 598
        },
        "id": "72NHl7a-NjcZ",
        "outputId": "20a8befa-c3e6-4a91-c06b-84189c6560c2"
      },
      "outputs": [],
      "source": [
        "import numpy as np\n",
        "import pandas as pd\n",
        "from sklearn.model_selection import train_test_split\n",
        "from sklearn.preprocessing import MinMaxScaler\n",
        "import tensorflow as tf\n",
        "import matplotlib.pyplot as plt\n",
        "\n",
        "# Generate synthetic weather data\n",
        "np.random.seed(42)\n",
        "data_size = 1000\n",
        "\n",
        "humidity = np.random.uniform(20, 100, data_size)\n",
        "pressure = np.random.uniform(980, 1050, data_size)\n",
        "wind_speed = np.random.uniform(0, 15, data_size)\n",
        "\n",
        "# Simulate temperature as a function of features (somewhat realistic)\n",
        "temperature = 0.5 * humidity + 0.2 * pressure - 1.5 * wind_speed + np.random.normal(0, 5, data_size)\n",
        "\n",
        "# Prepare DataFrame\n",
        "df = pd.DataFrame({\n",
        "    'humidity': humidity,\n",
        "    'pressure': pressure,\n",
        "    'wind_speed': wind_speed,\n",
        "    'temperature': temperature\n",
        "})\n",
        "\n",
        "# Split into inputs (X) and target (y)\n",
        "X = df[['humidity', 'pressure', 'wind_speed']]\n",
        "y = df['temperature']\n",
        "\n",
        "# Normalize features\n",
        "scaler = MinMaxScaler()\n",
        "X_scaled = scaler.fit_transform(X)\n",
        "\n",
        "# Train/test split\n",
        "X_train, X_test, y_train, y_test = train_test_split(X_scaled, y, test_size=0.2, random_state=42)\n",
        "\n",
        "# Build neural network model\n",
        "model = tf.keras.Sequential([\n",
        "    tf.keras.layers.Dense(10, activation='relu', input_shape=(3,)),\n",
        "    tf.keras.layers.Dense(10, activation='relu'),\n",
        "    tf.keras.layers.Dense(1)  # Output layer\n",
        "])\n",
        "\n",
        "# Compile model\n",
        "model.compile(optimizer='adam', loss='mean_squared_error')\n",
        "\n",
        "# Train model\n",
        "history = model.fit(X_train, y_train, epochs=100, validation_split=0.2, verbose=0)\n",
        "\n",
        "# Evaluate model\n",
        "loss = model.evaluate(X_test, y_test)\n",
        "print(f\"Test Loss (MSE): {loss:.2f}\")\n",
        "\n",
        "# Predict and visualize\n",
        "predictions = model.predict(X_test)\n",
        "\n",
        "plt.figure(figsize=(10, 5))\n",
        "plt.plot(y_test.values, label='Actual Temperature')\n",
        "plt.plot(predictions, label='Predicted Temperature')\n",
        "plt.legend()\n",
        "plt.title(\"Actual vs Predicted Temperature\")\n",
        "plt.xlabel(\"Sample\")\n",
        "plt.ylabel(\"Temperature\")\n",
        "plt.grid(True)\n",
        "plt.show()\n"
      ]
    }
  ],
  "metadata": {
    "colab": {
      "provenance": []
    },
    "kernelspec": {
      "display_name": "base",
      "language": "python",
      "name": "python3"
    },
    "language_info": {
      "codemirror_mode": {
        "name": "ipython",
        "version": 3
      },
      "file_extension": ".py",
      "mimetype": "text/x-python",
      "name": "python",
      "nbconvert_exporter": "python",
      "pygments_lexer": "ipython3",
      "version": "3.12.7"
    }
  },
  "nbformat": 4,
  "nbformat_minor": 0
}

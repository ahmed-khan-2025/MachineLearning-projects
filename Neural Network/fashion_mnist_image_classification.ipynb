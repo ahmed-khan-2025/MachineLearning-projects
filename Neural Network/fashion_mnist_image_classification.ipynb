{
 "cells": [
  {
   "cell_type": "code",
   "execution_count": null,
   "id": "6b3c062a",
   "metadata": {},
   "outputs": [],
   "source": [
    "# Steg 1 impotera alla paket\n",
    "import tensorflow as tf\n",
    "import numpy as np\n",
    "import matplotlib.pyplot as plt\n",
    "# Steg 2 lås in dataset\n",
    "fashion_mnist = tf.keras.datasets.fashion_mnist\n",
    "(train_images, train_labels), (test_images, test_labels) = fashion_mnist.load_data()\n",
    "\n",
    "# Steg3 skapa Klaasnamn\n",
    "class_names = ['T-shirt/top', 'Trouser', 'Pullover', 'Dress', 'Coat',\n",
    "               'Sandal', 'Shirt', 'Sneaker', 'Bag', 'Ankle boot']\n",
    "# Steg4 Normalisa data\n",
    "train_images, test_images = train_images / 255.0, test_images / 255.0\n",
    "\n",
    "#Steg 5 Skapa model\n",
    "model = tf.keras.Sequential([\n",
    "    tf.keras.layers.Flatten(input_shape=(28, 28)),\n",
    "    tf.keras.layers.Dense(128, activation='relu'),\n",
    "    tf.keras.layers.Dropout(0.2),\n",
    "    tf.keras.layers.Dense(10, activation='softmax')\n",
    "])\n",
    "# Steg 6 kompilera modelen\n",
    "model.compile(optimizer='adam',\n",
    "              loss='sparse_categorical_crossentropy',\n",
    "              metrics=['accuracy'])\n",
    "\n",
    "# steg 7 tröna model\n",
    "model.fit(train_images, train_labels, epochs=5)\n",
    "\n",
    "# steg 8 Testa model\n",
    "test_loss, test_acc = model.evaluate(test_images, test_labels, verbose=2)\n",
    "print('\\nTest accuracy:', test_acc)\n",
    "\n",
    "# steg 9 Förutsäga bilder\n",
    "predictions = model.predict(test_images)\n",
    "plt.figure(figsize=(15, 10))\n",
    "for i in range(20):\n",
    "    plt.subplot(4, 5, i+1)\n",
    "    plt.imshow(test_images[i], cmap=plt.cm.binary)\n",
    "    predicted_label = class_names[np.argmax(predictions[i])]\n",
    "    true_label = class_names[test_labels[i]]\n",
    "    plt.title(f\"Predicted: {predicted_label}\\nTrue: {true_label}\")\n",
    "    plt.axis('off')\n",
    "plt.tight_layout()\n",
    "plt.show()\n",
    "print(test_images.shape)\n",
    "print(predictions[0])\n",
    "print(np.argmax(predictions[0]))\n",
    "print(test_labels[0])\n"
   ]
  }
 ],
 "metadata": {
  "language_info": {
   "name": "python"
  }
 },
 "nbformat": 4,
 "nbformat_minor": 5
}
